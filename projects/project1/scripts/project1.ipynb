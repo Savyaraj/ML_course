{
 "cells": [
  {
   "cell_type": "code",
   "execution_count": 1,
   "metadata": {
    "tags": []
   },
   "outputs": [],
   "source": [
    "# Useful starting lines\n",
    "%matplotlib inline\n",
    "import numpy as np\n",
    "import matplotlib.pyplot as plt\n",
    "%load_ext autoreload\n",
    "%autoreload 2"
   ]
  },
  {
   "cell_type": "markdown",
   "metadata": {},
   "source": [
    "## Load the training data into feature matrix, class labels, and event ids:"
   ]
  },
  {
   "cell_type": "code",
   "execution_count": 2,
   "metadata": {
    "collapsed": false,
    "jupyter": {
     "outputs_hidden": false
    }
   },
   "outputs": [],
   "source": [
    "from proj1_helpers import *\n",
    "DATA_TRAIN_PATH = '../data/train.csv' # TODO: download train data and supply path here \n",
    "y, tX, ids = load_csv_data(DATA_TRAIN_PATH, sub_sample=False)"
   ]
  },
  {
   "cell_type": "markdown",
   "metadata": {},
   "source": [
    "## Do your thing crazy machine learning thing here :) ..."
   ]
  },
  {
   "cell_type": "code",
   "execution_count": 3,
   "metadata": {
    "tags": []
   },
   "outputs": [],
   "source": [
    "tX = correction_missing_values(tX)\n",
    "tX, mean_x, std_x = standardize(tX)\n",
    "tX = normalize(tX)\n",
    "tX = np.c_[np.ones((y.shape[0], 1)), tX]"
   ]
  },
  {
   "cell_type": "code",
   "execution_count": 22,
   "metadata": {
    "tags": []
   },
   "outputs": [
    {
     "output_type": "stream",
     "name": "stdout",
     "text": "Accuracy from scikit learn - logistic regression: 75.88 %\n\nAccuracy from scikit learn - Support Vector Machine: 85.94 %\n\n"
    }
   ],
   "source": [
    "from sklearn.linear_model import LogisticRegression\n",
    "from sklearn.svm import SVC\n",
    "\n",
    "clf_logistic = LogisticRegression(random_state=0).fit(tX, y)\n",
    "clf_SVC = SVC(gamma='auto').fit(tX,y)\n",
    "print(\"Accuracy from scikit learn - logistic regression: \"+str(round(100*clf_logistic.score(tX, y),5))+' %\\n')\n",
    "print(\"Accuracy from scikit learn - Support Vector Machine: \"+str(round(100*clf_SVC.score(tX, y),5))+' %\\n')"
   ]
  },
  {
   "cell_type": "code",
   "execution_count": 4,
   "metadata": {
    "tags": []
   },
   "outputs": [
    {
     "output_type": "stream",
     "name": "stdout",
     "text": "Current iteration=0, loss=281953.7530888886\nCurrent iteration=100, loss=160077.69097207248\n[-1.48545835  0.8705997   0.20091977 -0.09854045  0.4160312   0.59957284\n  0.588484   -0.13052966  0.51335327  0.07332238  1.01459466 -0.43543527\n  0.4756391   0.80901304  0.52729153  0.50304922  0.0662824   0.44474379\n  0.56335724  0.71916114  0.82163972  0.44350096  0.90475495  0.77416494\n  0.1416169  -0.12071052 -0.05784187  0.04471856  0.7934666   0.81028455\n  0.37464937] 159694.9194536704\nAccuracy from our code:\n\nLogistic regression: 65.7332 %\n\n"
    }
   ],
   "source": [
    "from logistic_regression import *\n",
    "#Using our code\n",
    "\n",
    "gamma = 0.00001\n",
    "n_iter = 100\n",
    "\n",
    "w = np.random.rand(tX.shape[1])\n",
    "for i in range(n_iter):\n",
    "    w, loss = learning_by_gradient_descent(y, tX, w, gamma)\n",
    "    if i % 100 == 0:\n",
    "        print(\"Current iteration={iter}, loss={l}\".format(iter=i, l=loss))\n",
    "print(w, loss)\n",
    "\n",
    "print(\"Accuracy from our code:\\n\")\n",
    "print(\"Logistic regression: \"+str(round(100*np.sum(predict_labels(w, tX)==y)/len(y),5))+\" %\\n\")"
   ]
  },
  {
   "cell_type": "code",
   "execution_count": 5,
   "metadata": {
    "tags": []
   },
   "outputs": [
    {
     "output_type": "stream",
     "name": "stdout",
     "text": "Size of class 1: 65.7332%\n\nSize of predicted labels for class 1: 100.0%\n\n"
    }
   ],
   "source": []
  },
  {
   "cell_type": "code",
   "execution_count": 6,
   "metadata": {
    "tags": []
   },
   "outputs": [
    {
     "output_type": "stream",
     "name": "stdout",
     "text": "precision\t recall \t fscore\n\n"
    },
    {
     "output_type": "execute_result",
     "data": {
      "text/plain": "(0.657332, 0.657332, 0.657332, None)"
     },
     "metadata": {},
     "execution_count": 6
    }
   ],
   "source": [
    "from sklearn.metrics import precision_recall_fscore_support\n",
    "print(\"precision\\t recall \\t fscore\\n\")\n",
    "precision_recall_fscore_support(predict_labels(w, tX), y, average='micro')"
   ]
  },
  {
   "cell_type": "code",
   "execution_count": 35,
   "metadata": {
    "tags": []
   },
   "outputs": [
    {
     "output_type": "stream",
     "name": "stdout",
     "text": "Current iteration=0, loss=348149.65967854345\nCurrent iteration=100, loss=159902.62103199912\nCurrent iteration=200, loss=159559.76561295585\nCurrent iteration=300, loss=159236.99949460686\nCurrent iteration=400, loss=158933.12109618812\nCurrent iteration=500, loss=158647.0006645868\nCurrent iteration=600, loss=158377.57618884274\nCurrent iteration=700, loss=158123.84950838346\nCurrent iteration=800, loss=157884.882611399\nCurrent iteration=900, loss=157659.79411901944\n[-1.72699063  0.50482254 -2.82761211  0.38200582  1.61086526  1.8996945\n  1.70019549 -1.15186583  0.19890548  0.16231065  0.92871283 -0.947816\n  2.25178332  1.51328807  2.02971498  0.49826683  0.51679936 -0.26233039\n  0.43022343  0.4932405   0.59442412  0.43432508  1.41626402  1.46273333\n  0.5155154  -0.00704902  0.31834049  0.04006022 -0.12888002  0.45062057\n  1.27120021] 157449.81432735414\nAfter regularization: 65.7332 %\n\n"
    }
   ],
   "source": [
    "from reg_logistic_regression import *\n",
    "\n",
    "gamma = 0.00001\n",
    "lamda_ = 10\n",
    "n_iter = 1000\n",
    "\n",
    "w_reg = np.random.rand(tX.shape[1])\n",
    "for i in range(n_iter):\n",
    "    w_reg, loss = learning_by_penalized_gradient(y, tX, w_reg, gamma, lamda_)\n",
    "    if i % 100 == 0:\n",
    "        print(\"Current iteration={iter}, loss={l}\".format(iter=i, l=loss))\n",
    "print(w_reg, loss)\n",
    "\n",
    "print(\"After regularization: \"+str(round(100*np.sum(predict_labels(w_reg, tX)==y)/len(y),5))+\" %\\n\")"
   ]
  },
  {
   "cell_type": "markdown",
   "metadata": {},
   "source": [
    "## Generate predictions and save ouput in csv format for submission:"
   ]
  },
  {
   "cell_type": "code",
   "execution_count": 16,
   "metadata": {
    "collapsed": false,
    "jupyter": {
     "outputs_hidden": false
    }
   },
   "outputs": [],
   "source": [
    "DATA_TEST_PATH = '../data/test.csv' # TODO: download train data and supply path here \n",
    "_, tX_test, ids_test = load_csv_data(DATA_TEST_PATH)\n",
    "tX_test = correction_missing_values(tX_test)\n",
    "tX_test, mean_x, std_x = standardize(tX_test)\n",
    "tX_test = normalize(tX_test)\n",
    "tX_test = np.c_[np.ones((tX_test.shape[0], 1)), tX_test]"
   ]
  },
  {
   "cell_type": "code",
   "execution_count": 17,
   "metadata": {
    "collapsed": false,
    "jupyter": {
     "outputs_hidden": false
    }
   },
   "outputs": [],
   "source": [
    "OUTPUT_PATH = 'test_log_regr.csv' # TODO: fill in desired name of output file for submission\n",
    "y_pred = predict_labels(w, tX_test)\n",
    "y_pred[np.where(y_pred == 0)] = -1\n",
    "create_csv_submission(ids_test, y_pred, OUTPUT_PATH)"
   ]
  }
 ],
 "metadata": {
  "anaconda-cloud": {},
  "kernelspec": {
   "display_name": "Python 3",
   "language": "python",
   "name": "python3"
  },
  "language_info": {
   "codemirror_mode": {
    "name": "ipython",
    "version": 3
   },
   "file_extension": ".py",
   "mimetype": "text/x-python",
   "name": "python",
   "nbconvert_exporter": "python",
   "pygments_lexer": "ipython3",
   "version": "3.6.9-final"
  }
 },
 "nbformat": 4,
 "nbformat_minor": 4
}