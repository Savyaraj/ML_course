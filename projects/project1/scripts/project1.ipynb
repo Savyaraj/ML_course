{
 "cells": [
  {
   "cell_type": "code",
   "execution_count": 3,
   "metadata": {},
   "outputs": [],
   "source": [
    "# Useful starting lines\n",
    "%matplotlib inline\n",
    "import numpy as np\n",
    "import matplotlib.pyplot as plt\n",
    "%load_ext autoreload\n",
    "%autoreload 2"
   ]
  },
  {
   "cell_type": "markdown",
   "metadata": {},
   "source": [
    "## Load the training data into feature matrix, class labels, and event ids:"
   ]
  },
  {
   "cell_type": "code",
   "execution_count": 114,
   "metadata": {
    "collapsed": false,
    "jupyter": {
     "outputs_hidden": false
    }
   },
   "outputs": [],
   "source": [
    "from proj1_helpers import *\n",
    "DATA_TRAIN_PATH = '../data/train.csv' # TODO: download train data and supply path here \n",
    "y, tX, ids = load_csv_data(DATA_TRAIN_PATH, sub_sample=False)"
   ]
  },
  {
   "cell_type": "code",
   "execution_count": 374,
   "metadata": {},
   "outputs": [
    {
     "name": "stdout",
     "output_type": "stream",
     "text": [
      "[38114, 0, 0, 0, 177457, 177457, 177457, 0, 0, 0, 0, 0, 177457, 0, 0, 0, 0, 0, 0, 0, 0, 0, 0, 99913, 99913, 99913, 177457, 177457, 177457, 0]\n"
     ]
    }
   ],
   "source": [
    "print([np.sum(tX[:,i]==-999) for i in range(tX.shape[1])])"
   ]
  },
  {
   "cell_type": "code",
   "execution_count": 8,
   "metadata": {},
   "outputs": [],
   "source": [
    "from proj1_helpers import *\n",
    "DATA_TRAIN_PATH = '../data/train.csv' # TODO: download train data and supply path here \n",
    "y, tX, ids = load_csv_data(DATA_TRAIN_PATH, sub_sample=True)"
   ]
  },
  {
   "cell_type": "markdown",
   "metadata": {},
   "source": [
    "## Do your thing crazy machine learning thing here :) ..."
   ]
  },
  {
   "cell_type": "code",
   "execution_count": 9,
   "metadata": {},
   "outputs": [],
   "source": [
    "ratio = 0.8\n",
    "seed = 6\n",
    "tx_training, tx_testing, y_training, y_testing = split_data(tX, y, ratio, seed)"
   ]
  },
  {
   "cell_type": "code",
   "execution_count": 10,
   "metadata": {},
   "outputs": [],
   "source": [
    "tx_training = np.delete(tx_training, (4,5,6,12,26,27,28), axis=1)\n",
    "tx_training, col_median_tX = correction_missing_values(tx_training)\n",
    "#print([(np.max(tX[:,i]),np.min(tX[:,i]),np.mean(tX[:,i]),np.median(tX[:,i])) for i in range(tX.shape[1])])\n",
    "#plt.boxplot(tx_training)\n",
    "tx_training, perc_25, perc_75, col_median_tX = remove_outliers(tx_training)\n",
    "#tx_training, max_, min_ = normalize(tx_training)\n",
    "tx_training, mean, std = standardize(tx_training)"
   ]
  },
  {
   "cell_type": "code",
   "execution_count": 11,
   "metadata": {},
   "outputs": [],
   "source": [
    "tx_testing = np.delete(tx_testing, (4,5,6,12,26,27,28), axis=1)\n",
    "tx_testing = correction_missing_values_test(tx_testing, col_median_tX)\n",
    "tx_testing = remove_outliers_test(tx_testing, perc_25, perc_75, col_median_tX)\n",
    "#tx_testing = (tx_testing - min_) / (max_ - min_)\n",
    "tx_testing = (tx_testing - mean) / std"
   ]
  },
  {
   "cell_type": "code",
   "execution_count": 19,
   "metadata": {},
   "outputs": [
    {
     "name": "stderr",
     "output_type": "stream",
     "text": [
      "/usr/local/lib/python3.6/dist-packages/sklearn/linear_model/_logistic.py:764: ConvergenceWarning: lbfgs failed to converge (status=1):\n",
      "STOP: TOTAL NO. of ITERATIONS REACHED LIMIT.\n",
      "\n",
      "Increase the number of iterations (max_iter) or scale the data as shown in:\n",
      "    https://scikit-learn.org/stable/modules/preprocessing.html\n",
      "Please also refer to the documentation for alternative solver options:\n",
      "    https://scikit-learn.org/stable/modules/linear_model.html#logistic-regression\n",
      "  extra_warning_msg=_LOGISTIC_SOLVER_CONVERGENCE_MSG)\n"
     ]
    },
    {
     "name": "stdout",
     "output_type": "stream",
     "text": [
      "Accuracy from scikit learn - logistic regression: 78.85 %\n",
      "\n",
      "Accuracy from scikit learn - Support Vector Machine: 96.25 %\n",
      "\n"
     ]
    }
   ],
   "source": [
    "from sklearn.linear_model import LogisticRegression\n",
    "from sklearn.svm import SVC\n",
    "\n",
    "clf_logistic = LogisticRegression(random_state=0).fit(tx_training, y_training)\n",
    "clf_SVC = SVC(gamma='auto').fit(tx_training, y_training)\n",
    "print(\"Accuracy from scikit learn - logistic regression: \"+str(round(100*clf_logistic.score(tx_training, y_training),5))+' %\\n')\n",
    "print(\"Accuracy from scikit learn - Support Vector Machine: \"+str(round(100*clf_SVC.score(tx_training, y_training),5))+' %\\n')"
   ]
  },
  {
   "cell_type": "code",
   "execution_count": 44,
   "metadata": {},
   "outputs": [
    {
     "name": "stdout",
     "output_type": "stream",
     "text": [
      "Current iteration=0, training loss=5521.413283753469, testing loss=1260.454865442583\n",
      "Current iteration=10, training loss=2831.4255880359387, testing loss=687.4562267101987\n",
      "Current iteration=20, training loss=2204.258403944562, testing loss=563.861775675578\n",
      "Current iteration=30, training loss=2019.4559514421726, testing loss=529.3800951470937\n",
      "Current iteration=40, training loss=1947.8456766483139, testing loss=517.0578460250651\n",
      "Current iteration=50, training loss=1915.3428246331996, testing loss=512.0994962269394\n",
      "Current iteration=60, training loss=1898.8732012918622, testing loss=510.01874568679307\n",
      "Current iteration=70, training loss=1889.8459935832577, testing loss=509.1796589371522\n",
      "Current iteration=80, training loss=1884.6050025078605, testing loss=508.9050868244675\n",
      "[-0.88740606  1.01985769 -0.68726902 -0.09986496 -0.1851694   0.06088645\n",
      " -0.10154572 -0.03415832 -0.30745994  0.37593095  0.18073761 -0.01015003\n",
      "  0.03778521  0.04551408 -0.07930566  0.0932264  -0.06457739  0.01397209\n",
      "  0.06873418  0.10032532  0.21199918  0.0244286   0.04515024  0.0349298 ] 1883.1479162850283\n",
      "training loss=1882.8259057834543\n",
      "testing loss=508.87843643135466\n",
      "Accuracy from our code:\n",
      "\n",
      "Logistic regression: 76.4 %\n",
      "\n"
     ]
    }
   ],
   "source": [
    "from logistic_regression import *\n",
    "#Using our code\n",
    "#Logistic regression\n",
    "\n",
    "gamma = 0.0001\n",
    "n_iter = 85\n",
    "\n",
    "tx_training = np.c_[np.ones((y_training.shape[0], 1)), tx_training]\n",
    "tx_testing = np.c_[np.ones((y_testing.shape[0], 1)), tx_testing]\n",
    "\n",
    "w = np.random.rand(tx_training.shape[1])\n",
    "\n",
    "for i in range(n_iter):\n",
    "    w, loss = learning_by_gradient_descent(y_training, tx_training, w, gamma)\n",
    "    if i % 10 == 0:\n",
    "        print(\"Current iteration={iter}, training loss={l_tr}, testing loss={l_te}\".format(iter=i, l_tr=loss, \n",
    "                                                                                                         l_te=calculate_loss(y_testing, tx_testing, w)))\n",
    "print(w, loss)\n",
    "print(\"training loss={l_tr}\".format(l_tr=calculate_loss(y_training, tx_training, w)))\n",
    "print(\"testing loss={l_te}\".format(l_te=calculate_loss(y_testing, tx_testing, w)))\n",
    "\n",
    "print(\"Accuracy from our code:\\n\")\n",
    "print(\"Logistic regression: \"+str(round(100*np.sum(predict_labels(w, tx_testing, True)==y_testing)/len(y_testing),5))+\" %\\n\")"
   ]
  },
  {
   "cell_type": "code",
   "execution_count": 45,
   "metadata": {},
   "outputs": [
    {
     "name": "stdout",
     "output_type": "stream",
     "text": [
      "1000\n",
      "284\n",
      "338\n"
     ]
    }
   ],
   "source": [
    "y_pred = predict_labels(w, tx_testing, True)\n",
    "print(len(y_pred))\n",
    "print(np.sum([y_pred==1]))\n",
    "print(np.sum([y_testing==1]))"
   ]
  },
  {
   "cell_type": "code",
   "execution_count": 46,
   "metadata": {},
   "outputs": [],
   "source": [
    "#test on all data points from train.csv\n",
    "y_, tX_, ids_ = load_csv_data('../data/train.csv', sub_sample=False)"
   ]
  },
  {
   "cell_type": "code",
   "execution_count": 47,
   "metadata": {},
   "outputs": [],
   "source": [
    "tX_ = np.delete(tX_, (4,5,6,12,26,27,28), axis=1)\n",
    "tX_ = correction_missing_values_test(tX_, col_median_tX)\n",
    "tX_ = remove_outliers_test(tX_, perc_25, perc_75, col_median_tX)\n",
    "tX_ = (tX_ - min_) / (max_ - min_)\n",
    "tX_ = (tX_ - mean) / std\n",
    "tX_ = np.c_[np.ones((tX_.shape[0], 1)), tX_]"
   ]
  },
  {
   "cell_type": "code",
   "execution_count": 48,
   "metadata": {},
   "outputs": [
    {
     "name": "stdout",
     "output_type": "stream",
     "text": [
      "71472\n",
      "85667\n",
      "Logistic regression: 77.5292 %\n",
      "\n"
     ]
    }
   ],
   "source": [
    "y_pred = predict_labels(w, tX_, True)\n",
    "print(np.sum([y_pred==1]))\n",
    "print(np.sum([y_==1]))\n",
    "print(\"Logistic regression: \"+str(round(100*np.sum(y_pred==y_)/len(y_),5))+\" %\\n\")"
   ]
  },
  {
   "cell_type": "code",
   "execution_count": 100,
   "metadata": {},
   "outputs": [
    {
     "name": "stdout",
     "output_type": "stream",
     "text": [
      "Current iteration=0, training loss=5522.318831095153, testing loss=1260.4333781867192\n",
      "Current iteration=10, training loss=2831.5040238577826, testing loss=687.3783248511893\n",
      "Current iteration=20, training loss=2204.334581461228, testing loss=563.8113249033254\n",
      "Current iteration=30, training loss=2019.5940856386665, testing loss=529.3483253001523\n",
      "Current iteration=40, training loss=1948.0357998134643, testing loss=517.0361769260752\n",
      "Current iteration=50, training loss=1915.5701962888809, testing loss=512.0828977498253\n",
      "Current iteration=60, training loss=1899.1268346255213, testing loss=510.0044088618023\n",
      "Current iteration=70, training loss=1890.118269395124, testing loss=509.16597625588525\n",
      "Current iteration=80, training loss=1884.8906396331927, testing loss=508.8911341349611\n",
      "[-0.8892887   1.02793143 -0.70016142 -0.10307377 -0.18741807  0.05434073\n",
      " -0.0966743  -0.03384179 -0.30361892  0.36787893  0.17993639 -0.01237023\n",
      "  0.03351597  0.04774421 -0.07715804  0.08822358 -0.06233701  0.01085407\n",
      "  0.0697599   0.09030497  0.208854    0.02442397  0.03895345  0.04389875] 1881.9755854479163\n",
      "training loss=1881.4347966323626\n",
      "testing loss=508.87038880719297\n",
      "After regularization: 76.5 %\n",
      "\n"
     ]
    }
   ],
   "source": [
    "from reg_logistic_regression import *\n",
    "#Reguralized logistic regression\n",
    "\n",
    "gamma = 0.0001\n",
    "lamda_ = 0.105\n",
    "n_iter = 90\n",
    "\n",
    "tx_training = np.c_[np.ones((y_training.shape[0], 1)), tx_training]\n",
    "tx_testing = np.c_[np.ones((y_testing.shape[0], 1)), tx_testing]\n",
    "\n",
    "w_reg = np.random.rand(tx_training.shape[1])\n",
    "for i in range(n_iter):\n",
    "    w_reg, loss = learning_by_penalized_gradient(y_training, tx_training, w_reg, gamma, lamda_)\n",
    "    if i % 10 == 0:\n",
    "        print(\"Current iteration={iter}, training loss={l_tr}, testing loss={l_te}\".format(iter=i, l_tr=loss, \n",
    "                                                                                                         l_te=calculate_loss(y_testing, tx_testing, w_reg)))\n",
    "print(w_reg, loss)\n",
    "print(\"training loss={l_tr}\".format(l_tr=calculate_loss(y_training, tx_training, w_reg)))\n",
    "print(\"testing loss={l_te}\".format(l_te=calculate_loss(y_testing, tx_testing, w_reg)))\n",
    "\n",
    "print(\"After regularization: \"+str(round(100*np.sum(predict_labels(w_reg, tx_testing, True)==y_testing)/len(y_testing),5))+\" %\\n\")"
   ]
  },
  {
   "cell_type": "code",
   "execution_count": 101,
   "metadata": {},
   "outputs": [],
   "source": [
    "y_pred = predict_labels(w_reg, tx_testing, True)\n",
    "print(len(y_pred))\n",
    "print(np.sum([y_pred==1]))\n",
    "print(np.sum([y_testing==1]))"
   ]
  },
  {
   "cell_type": "code",
   "execution_count": 103,
   "metadata": {},
   "outputs": [],
   "source": [
    "#test on all data points from train.csv\n",
    "y_, tX_, ids_ = load_csv_data('../data/train.csv', sub_sample=False)"
   ]
  },
  {
   "cell_type": "code",
   "execution_count": 104,
   "metadata": {},
   "outputs": [],
   "source": [
    "tX_ = np.delete(tX_, (4,5,6,12,26,27,28), axis=1)\n",
    "tX_ = correction_missing_values_test(tX_, col_median_tX)\n",
    "tX_ = remove_outliers_test(tX_, perc_25, perc_75, col_median_tX)\n",
    "tX_ = (tX_ - min_) / (max_ - min_)\n",
    "tX_ = (tX_ - mean) / std\n",
    "tX_ = np.c_[np.ones((tX_.shape[0], 1)), tX_]"
   ]
  },
  {
   "cell_type": "code",
   "execution_count": 105,
   "metadata": {},
   "outputs": [
    {
     "name": "stdout",
     "output_type": "stream",
     "text": [
      "71468\n",
      "85667\n",
      "Regularized logistic regression: 77.554 %\n",
      "\n"
     ]
    }
   ],
   "source": [
    "y_pred = predict_labels(w_reg, tX_, True)\n",
    "print(np.sum([y_pred==1]))\n",
    "print(np.sum([y_==1]))\n",
    "print(\"Regularized logistic regression: \"+str(round(100*np.sum(y_pred==y_)/len(y_),5))+\" %\\n\")"
   ]
  },
  {
   "cell_type": "code",
   "execution_count": 24,
   "metadata": {},
   "outputs": [],
   "source": [
    "from grid_search import *\n",
    "# optimising the lambda for regularized logistic regression \n",
    "\n",
    "gamma = 0.0001\n",
    "n_iter = 10000\n",
    "ratio = 0.8\n",
    "seed = 6\n",
    "n_intervals = 20\n",
    "\n",
    "tX = np.c_[np.ones((y.shape[0], 1)), tX]\n",
    "\n",
    "tx_training, tx_testing, y_training, y_testing = split_data(tX, y, ratio, seed)\n",
    "\n",
    "w_reg = np.random.rand(tX.shape[1])\n",
    "\n",
    "lambdas = generate_lambda(n_intervals)\n",
    "min_loss, best_lambda = grid_search(y_training, y_testing, tx_training, tx_testing, w_reg, lambdas, gamma, n_iter)"
   ]
  },
  {
   "cell_type": "code",
   "execution_count": null,
   "metadata": {},
   "outputs": [],
   "source": [
    "print(\"The optimum lambda is : \" + str(best_lambda))\n",
    "print(\"The corresponding loss is : \" + str(min_loss))"
   ]
  },
  {
   "cell_type": "code",
   "execution_count": 487,
   "metadata": {},
   "outputs": [
    {
     "name": "stdout",
     "output_type": "stream",
     "text": [
      "weights=[ 3.66598441e-01  2.09398782e-01 -3.05068879e-03 -1.99818081e-02\n",
      " -1.83384785e-01 -2.66200489e-02  3.07285822e-02  4.52252769e-02\n",
      " -4.47537037e-02 -3.10521859e-03 -5.95299805e-02 -3.76918551e-03\n",
      "  7.79476558e-03 -2.41872499e-02 -1.72349806e-02 -2.32072324e-04\n",
      " -1.85236296e-02  2.80616785e-02 -4.32533197e-03  5.53024378e-03\n",
      "  4.05712481e-03 -3.72715217e-03 -2.29538811e-02  9.83291248e-03\n",
      " -5.47150075e-04  5.86382336e-02  3.54795335e-02 -1.12674819e-02\n",
      "  5.87072500e-02 -3.34374623e-03 -2.06295721e-03 -4.72162526e-03\n",
      " -1.72343279e-02 -4.89215164e-04  7.56382855e-03 -8.47417844e-03\n",
      " -2.58754396e-03 -2.59801853e-02  2.87535229e-03  4.10879532e-04\n",
      "  2.79087785e-03 -3.04015839e-02 -4.17405857e-03  1.79978944e-02\n",
      " -6.36495793e-03 -2.52412325e-03  3.76673750e-03  8.94330230e-03\n",
      " -1.46389377e-03  3.42666271e-02  1.50008577e-03 -1.81931039e-02\n",
      "  3.50202375e-04 -6.25274602e-03  9.15348524e-04  7.63380754e-02\n",
      "  2.34957727e-02 -3.80639468e-02  2.57594706e-02 -1.55082641e-02\n",
      "  3.98318897e-03 -1.41403584e-03  3.01647940e-02  5.39518174e-04\n",
      "  1.49200055e-02  3.34820492e-03 -2.13973190e-03 -1.75506880e-02\n",
      "  3.56894965e-02 -9.72747885e-03], loss=0.0697153219398077\n",
      "training loss=0.0697153219398077\n",
      "testing loss=0.07828847199031279\n",
      "After least squares: 78.7 %\n",
      "\n"
     ]
    }
   ],
   "source": [
    "from least_squares import *\n",
    "#least squares\n",
    "\n",
    "#try polynomial\n",
    "degree = 3\n",
    "tx_training = build_poly(tx_training, degree)\n",
    "tx_training = np.c_[np.ones((y_training.shape[0], 1)), tx_training]\n",
    "tx_testing = build_poly(tx_testing, degree)\n",
    "tx_testing = np.c_[np.ones((y_testing.shape[0], 1)), tx_testing]\n",
    "\n",
    "w_lsq, loss = least_squares(y_training, tx_training)\n",
    "print(\"weights={w}, loss={l}\".format(w=w_lsq, l=loss))\n",
    "print(\"training loss={l_tr}\".format(l_tr=compute_loss(y_training, tx_training, w_lsq)))\n",
    "print(\"testing loss={l_te}\".format(l_te=compute_loss(y_testing, tx_testing, w_lsq)))\n",
    "print(\"After least squares: \"+str(round(100*np.sum(predict_labels(w_lsq, tx_testing, False)==y_testing)/len(y_testing),5))+\" %\\n\")"
   ]
  },
  {
   "cell_type": "code",
   "execution_count": 488,
   "metadata": {},
   "outputs": [
    {
     "name": "stdout",
     "output_type": "stream",
     "text": [
      "1000\n",
      "287\n",
      "338\n"
     ]
    }
   ],
   "source": [
    "y_pred = predict_labels(w_lsq, tx_testing, False)\n",
    "print(len(y_pred))\n",
    "print(np.sum([y_pred==1]))\n",
    "print(np.sum([y_testing==1]))"
   ]
  },
  {
   "cell_type": "code",
   "execution_count": 489,
   "metadata": {},
   "outputs": [],
   "source": [
    "#test on all data points from train.csv\n",
    "y_, tX_, ids_ = load_csv_data('../data/train.csv', sub_sample=False)"
   ]
  },
  {
   "cell_type": "code",
   "execution_count": 490,
   "metadata": {},
   "outputs": [],
   "source": [
    "tX_ = np.delete(tX_, (4,5,6,12,26,27,28), axis=1)\n",
    "tX_ = correction_missing_values_test(tX_, col_median_tX)\n",
    "tX_ = remove_outliers_test(tX_, perc_25, perc_75, col_median_tX)\n",
    "#tX_ = (tX_ - min_) / (max_ - min_)\n",
    "tX_ = (tX_ - mean) / std\n",
    "tX_ = build_poly(tX_, degree)\n",
    "tX_ = np.c_[np.ones((tX_.shape[0], 1)), tX_]"
   ]
  },
  {
   "cell_type": "code",
   "execution_count": 491,
   "metadata": {},
   "outputs": [
    {
     "name": "stdout",
     "output_type": "stream",
     "text": [
      "75823\n",
      "85667\n",
      "Least squares: 80.3456 %\n",
      "\n"
     ]
    }
   ],
   "source": [
    "y_pred = predict_labels(w_lsq, tX_, False)\n",
    "print(np.sum([y_pred==1]))\n",
    "print(np.sum([y_==1]))\n",
    "print(\"Least squares: \"+str(round(100*np.sum(y_pred==y_)/len(y_),5))+\" %\\n\")"
   ]
  },
  {
   "cell_type": "code",
   "execution_count": 129,
   "metadata": {},
   "outputs": [
    {
     "name": "stdout",
     "output_type": "stream",
     "text": [
      "training loss=0.07906238228549702\n",
      "testing loss=0.08644314556672941\n",
      "Processing 1th experiment, degree=1, training rmse=0.3976490469886656, testing rmse=0.08644314556672941\n",
      "training loss=0.07257482112180884\n",
      "testing loss=0.08039932152981177\n",
      "Processing 2th experiment, degree=2, training rmse=0.380985094516331, testing rmse=0.08039932152981177\n",
      "training loss=0.0697153219398077\n",
      "testing loss=0.07828847199031279\n",
      "Processing 3th experiment, degree=3, training rmse=0.3734041294356764, testing rmse=0.07828847199031279\n",
      "training loss=0.06881541109575426\n",
      "testing loss=0.07782891476206491\n",
      "Processing 4th experiment, degree=4, training rmse=0.3709862830233869, testing rmse=0.07782891476206491\n",
      "training loss=30.954725931273213\n",
      "testing loss=34.610948733122264\n",
      "Processing 5th experiment, degree=5, training rmse=7.8682559606653895, testing rmse=34.610948733122264\n",
      "training loss=5.199442406434914\n",
      "testing loss=5.231264891349185\n",
      "Processing 6th experiment, degree=6, training rmse=3.2247301922594747, testing rmse=5.231264891349185\n",
      "training loss=5.810118049533278\n",
      "testing loss=5.6879516296408505\n",
      "Processing 7th experiment, degree=7, training rmse=3.4088467403311866, testing rmse=5.6879516296408505\n",
      "training loss=1.193676713602778\n",
      "testing loss=1.4272511852704153\n",
      "Processing 8th experiment, degree=8, training rmse=1.5451062834658191, testing rmse=1.4272511852704153\n"
     ]
    }
   ],
   "source": [
    "#choosing polynomial degree\n",
    "def polynomial_regression():\n",
    "    \"\"\"Constructing the polynomial basis function expansion of the data,\n",
    "       and then running least squares regression.\"\"\"\n",
    "    # define parameters\n",
    "    degrees = [1, 2, 3, 4, 5, 6, 7, 8]\n",
    "\n",
    "    for ind, degree in enumerate(degrees):\n",
    "        tx_training_ = build_poly(tx_training, degree)\n",
    "        tx_training_ = np.c_[np.ones((y_training.shape[0], 1)), tx_training_]\n",
    "        tx_testing_ = build_poly(tx_testing, degree)\n",
    "        tx_testing_ = np.c_[np.ones((y_testing.shape[0], 1)), tx_testing_]\n",
    "\n",
    "        weights, mse = least_squares(y_training, tx_training_)\n",
    "        print(\"training loss={l_tr}\".format(l_tr=compute_loss(y_training, tx_training_, weights)))\n",
    "        print(\"testing loss={l_te}\".format(l_te=compute_loss(y_testing, tx_testing_, weights)))\n",
    "        rmse = np.sqrt(2 * mse)\n",
    "\n",
    "        print(\"Processing {i}th experiment, degree={d}, training rmse={tr_loss}, testing rmse={te_loss}\".format(\n",
    "              i=ind + 1, d=degree, tr_loss=rmse, te_loss=compute_loss(y_testing, tx_testing_, weights)))\n",
    "        \n",
    "polynomial_regression()"
   ]
  },
  {
   "cell_type": "code",
   "execution_count": 172,
   "metadata": {},
   "outputs": [],
   "source": [
    "def cross_validation_least_squares(y, x, k_indices, k, degree):\n",
    "    # get k'th subgroup in test, others in train: TODO\n",
    "    te_indice = k_indices[k]\n",
    "    tr_indice = k_indices[~(np.arange(k_indices.shape[0]) == k)]\n",
    "\n",
    "    tr_indice = tr_indice.reshape(-1)\n",
    "\n",
    "    y_testing = y[te_indice]\n",
    "    y_training = y[tr_indice]\n",
    "    tx_testing = tX[te_indice]\n",
    "    tx_training = tX[tr_indice]\n",
    "\n",
    "    tx_training = np.delete(tx_training, (4,5,6,12,26,27,28), axis=1)\n",
    "    tx_training, col_median_tX = correction_missing_values(tx_training)\n",
    "    tx_training, perc_25, perc_75, col_median_tX = remove_outliers(tx_training)\n",
    "    tx_training, max_, min_ = normalize(tx_training)\n",
    "    tx_training, mean, std = standardize(tx_training)\n",
    "    \n",
    "    tx_testing = np.delete(tx_testing, (4,5,6,12,26,27,28), axis=1)\n",
    "    tx_testing = correction_missing_values_test(tx_testing, col_median_tX)\n",
    "    tx_testing = remove_outliers_test(tx_testing, perc_25, perc_75, col_median_tX)\n",
    "    tx_testing = (tx_testing - min_) / (max_ - min_)\n",
    "    tx_testing = (tx_testing - mean) / std\n",
    "    \n",
    "    tx_training_ = build_poly(tx_training, degree)\n",
    "    tx_training_ = np.c_[np.ones((y_training.shape[0], 1)), tx_training_]\n",
    "    tx_testing_ = build_poly(tx_testing, degree)\n",
    "    tx_testing_ = np.c_[np.ones((y_testing.shape[0], 1)), tx_testing_]\n",
    "\n",
    "    w_lsq, loss = least_squares(y_training, tx_training_)\n",
    "\n",
    "    loss_tr = np.sqrt(2 * compute_loss(y_training, tx_training_, w_lsq))\n",
    "    loss_te = np.sqrt(2 * compute_loss(y_testing, tx_testing_, w_lsq))\n",
    "\n",
    "    return loss_tr, loss_te, w_lsq"
   ]
  },
  {
   "cell_type": "code",
   "execution_count": 177,
   "metadata": {},
   "outputs": [
    {
     "data": {
      "text/plain": [
       "(3, 0.3878334931510904)"
      ]
     },
     "execution_count": 177,
     "metadata": {},
     "output_type": "execute_result"
    },
    {
     "data": {
      "image/png": "[encoded data removed]",
      "text/plain": [
       "<Figure size 432x288 with 1 Axes>"
      ]
     },
     "metadata": {
      "needs_background": "light"
     },
     "output_type": "display_data"
    }
   ],
   "source": [
    "def best_degree_selection_least_squares(degrees, k_fold, seed = 1):\n",
    "    # split data in k fold\n",
    "    k_indices = build_k_indices(y, k_fold, seed)\n",
    "    \n",
    "    rmse_tr = []\n",
    "    rmse_te = []\n",
    "    #vary degree\n",
    "    for degree in degrees:\n",
    "        rmse_tr_tmp = []\n",
    "        rmse_te_tmp = []\n",
    "        for k in range(k_fold):\n",
    "            loss_tr, loss_te, _ = cross_validation_least_squares(y, tX, k_indices, k, degree)\n",
    "            rmse_tr_tmp.append(loss_tr)\n",
    "            rmse_te_tmp.append(loss_te)\n",
    "        rmse_tr.append(np.mean(rmse_tr_tmp))\n",
    "        rmse_te.append(np.mean(rmse_te_tmp))\n",
    "\n",
    "    x_label = 'degree'\n",
    "    cross_validation_visualization(degrees, x_label, rmse_tr, rmse_te)\n",
    "    \n",
    "    ind_best_degree = np.argmin(rmse_te)\n",
    "    return degrees[ind_best_degree], rmse_te[ind_best_degree]\n",
    "\n",
    "best_degree_selection_least_squares(np.arange(1,11), 4)"
   ]
  },
  {
   "cell_type": "code",
   "execution_count": 1,
   "metadata": {},
   "outputs": [],
   "source": [
    "#from ridge_regression import *\n",
    "#ridge regression\n",
    "\n",
    "#degree = 2\n",
    "#tx_training = build_poly(tx_training, degree)\n",
    "#tx_training = np.c_[np.ones((y_training.shape[0], 1)), tx_training]\n",
    "#tx_testing = build_poly(tx_testing, degree)\n",
    "#tx_testing = np.c_[np.ones((y_testing.shape[0], 1)), tx_testing]\n",
    "\n",
    "#lambdas = np.logspace(-10, -2, 50)\n",
    "#for ind, lambda_ in enumerate(lambdas):\n",
    "    # ridge regression with a given lambda\n",
    "    #w_ridge, loss = ridge_regression(y_training, tx_training, lambda_)\n",
    "    #print(\"lambda={lam}, training rmse={l_tr}, testing rmse={l_te}\".format(lam=lambda_, l_tr=np.sqrt(2*loss), \n",
    "                                                                                       #l_te=np.sqrt(2*compute_loss(y_testing, tx_testing, w_ridge))))\n",
    "    \n",
    "#print(\"weights={w}, loss={l}\".format(w=w_ridge, l=loss))\n",
    "#print(\"training loss={l_tr}\".format(l_tr=compute_loss(y_training, tx_training, w_ridge)))\n",
    "#print(\"testing loss={l_te}\".format(l_te=compute_loss(y_testing, tx_testing, w_ridge)))\n",
    "\n",
    "#print(\"After ridge regression: \"+str(round(100*np.sum(predict_labels(w_ridge, tx_testing, False)==y_testing)/len(y_testing),5))+\" %\\n\")"
   ]
  },
  {
   "cell_type": "code",
   "execution_count": null,
   "metadata": {},
   "outputs": [],
   "source": [
    "#lambda=2.329951810515372e-10, training rmse=0.37002483837927225, testing rmse=0.39364374050304274"
   ]
  },
  {
   "cell_type": "code",
   "execution_count": 180,
   "metadata": {},
   "outputs": [],
   "source": [
    "from ridge_regression import *\n",
    "def cross_validation_ridge_regression(y, x, k_indices, k, lambda_, degree):\n",
    "    # get k'th subgroup in test, others in train: TODO\n",
    "    te_indice = k_indices[k]\n",
    "    tr_indice = k_indices[~(np.arange(k_indices.shape[0]) == k)]\n",
    "\n",
    "    tr_indice = tr_indice.reshape(-1)\n",
    "\n",
    "    y_testing = y[te_indice]\n",
    "    y_training = y[tr_indice]\n",
    "    tx_testing = tX[te_indice]\n",
    "    tx_training = tX[tr_indice]\n",
    "\n",
    "    tx_training = np.delete(tx_training, (4,5,6,12,26,27,28), axis=1)\n",
    "    tx_training, col_median_tX = correction_missing_values(tx_training)\n",
    "    tx_training, perc_25, perc_75, col_median_tX = remove_outliers(tx_training)\n",
    "    tx_training, max_, min_ = normalize(tx_training)\n",
    "    tx_training, mean, std = standardize(tx_training)\n",
    "    \n",
    "    tx_testing = np.delete(tx_testing, (4,5,6,12,26,27,28), axis=1)\n",
    "    tx_testing = correction_missing_values_test(tx_testing, col_median_tX)\n",
    "    tx_testing = remove_outliers_test(tx_testing, perc_25, perc_75, col_median_tX)\n",
    "    tx_testing = (tx_testing - min_) / (max_ - min_)\n",
    "    tx_testing = (tx_testing - mean) / std\n",
    "    \n",
    "    tx_training_ = build_poly(tx_training, degree)\n",
    "    tx_training_ = np.c_[np.ones((y_training.shape[0], 1)), tx_training_]\n",
    "    tx_testing_ = build_poly(tx_testing, degree)\n",
    "    tx_testing_ = np.c_[np.ones((y_testing.shape[0], 1)), tx_testing_]\n",
    "\n",
    "    w_ridge, _ = ridge_regression(y_training, tx_training_, lambda_)\n",
    "\n",
    "    loss_tr = np.sqrt(2 * compute_loss(y_training, tx_training_, w_ridge))\n",
    "    loss_te = np.sqrt(2 * compute_loss(y_testing, tx_testing_, w_ridge))\n",
    "\n",
    "    return loss_tr, loss_te, w_ridge"
   ]
  },
  {
   "cell_type": "code",
   "execution_count": 208,
   "metadata": {},
   "outputs": [
    {
     "data": {
      "text/plain": [
       "(4, 0.3827734675914003, 6.723357536499335e-10)"
      ]
     },
     "execution_count": 208,
     "metadata": {},
     "output_type": "execute_result"
    }
   ],
   "source": [
    "def best_degree_selection_ridge_regression(degrees, lambdas, k_fold, seed = 1):\n",
    "    # split data in k fold\n",
    "    k_indices = build_k_indices(y, k_fold, seed)\n",
    "    \n",
    "    #for each degree, we compute the best lambdas and the associated rmse\n",
    "    best_lambdas = []\n",
    "    best_rmses = []\n",
    "    #vary degree\n",
    "    for degree in degrees:\n",
    "        # cross validation\n",
    "        rmse_te = []\n",
    "        for lambda_ in lambdas:\n",
    "            rmse_te_tmp = []\n",
    "            for k in range(k_fold):\n",
    "                _, loss_te, _ = cross_validation_ridge_regression(y, tX, k_indices, k, lambda_, degree)\n",
    "                rmse_te_tmp.append(loss_te)\n",
    "            rmse_te.append(np.mean(rmse_te_tmp))\n",
    "        \n",
    "        ind_lambda_opt = np.argmin(rmse_te)\n",
    "        best_lambdas.append(lambdas[ind_lambda_opt])\n",
    "        best_rmses.append(rmse_te[ind_lambda_opt])\n",
    "        \n",
    "    ind_best_degree =  np.argmin(best_rmses)\n",
    "        \n",
    "    return degrees[ind_best_degree], best_rmses[ind_best_degree], best_lambdas[ind_best_degree]\n",
    "\n",
    "best_degree_selection_ridge_regression(np.arange(1,11), np.logspace(-10, -2, 30), 4)"
   ]
  },
  {
   "cell_type": "code",
   "execution_count": 210,
   "metadata": {},
   "outputs": [
    {
     "data": {
      "text/plain": [
       "(2.329951810515372e-10, 0.3827733968108855)"
      ]
     },
     "execution_count": 210,
     "metadata": {},
     "output_type": "execute_result"
    },
    {
     "data": {
      "image/png": "[encoded data removed]",
      "text/plain": [
       "<Figure size 432x288 with 1 Axes>"
      ]
     },
     "metadata": {
      "needs_background": "light"
     },
     "output_type": "display_data"
    }
   ],
   "source": [
    "def best_lambda_selection_ridge_regression(degree, lambdas, k_fold, seed = 1):\n",
    "    # split data in k fold\n",
    "    k_indices = build_k_indices(y, k_fold, seed)\n",
    "    # define lists to store the loss of training data and test data\n",
    "    rmse_tr = []\n",
    "    rmse_te = []\n",
    "    # cross validation: TODO\n",
    "    for lambda_ in lambdas:\n",
    "        rmse_tr_tmp = []\n",
    "        rmse_te_tmp = []\n",
    "        for k in range(k_fold):\n",
    "            loss_tr, loss_te, _ = cross_validation_ridge_regression(y, tX, k_indices, k, lambda_, degree)\n",
    "            rmse_tr_tmp.append(loss_tr)\n",
    "            rmse_te_tmp.append(loss_te)\n",
    "        rmse_tr.append(np.mean(rmse_tr_tmp))\n",
    "        rmse_te.append(np.mean(rmse_te_tmp))\n",
    "\n",
    "    x_label = 'lambda'\n",
    "    cross_validation_visualization(lambdas, x_label, rmse_tr, rmse_te)\n",
    "    ind_best_lambda = np.argmin(rmse_te)\n",
    "    return lambdas[ind_best_lambda], rmse_te[ind_best_lambda]\n",
    "\n",
    "best_lambda_selection_ridge_regression(4, np.logspace(-10, -4, 50), 4)"
   ]
  },
  {
   "cell_type": "code",
   "execution_count": 9,
   "metadata": {},
   "outputs": [
    {
     "name": "stdout",
     "output_type": "stream",
     "text": [
      "weights=[ 2.97272641e-01  2.53159561e-01  3.95576693e-02 -4.10265667e-02\n",
      " -8.94857750e-03 -2.16164727e-01 -1.67991094e-02  5.62833322e-02\n",
      " -9.39519533e-03  6.24670655e-02 -6.69265434e-02 -1.03605106e-02\n",
      "  4.86122888e-03 -5.38496462e-02 -1.84390100e-03  3.88211772e-03\n",
      "  1.07214395e-03 -4.74537903e-03 -3.66453473e-02 -6.38351841e-03\n",
      "  3.77370722e-03 -2.83579954e-02  8.64163497e-03  7.72484431e-03\n",
      " -1.51218304e-03  1.14560813e-02  1.80415565e-04 -5.67742710e-03\n",
      "  1.06907215e-03 -3.64110833e-02  2.15273240e-02 -3.34954809e-03\n",
      "  1.36209056e-04  6.56039580e-02  1.49318509e-01 -6.98864641e-03\n",
      " -7.86525197e-02  5.33045021e-02  1.76518719e-02 -1.43456980e-02\n",
      "  1.55662070e-03 -3.82099424e-03 -1.59039827e-02 -6.81440388e-04\n",
      " -3.52938108e-04  4.05536656e-03  1.37950836e-02 -1.22384157e-03\n",
      " -7.31066217e-03 -1.21095098e-02  5.60115622e-03 -5.19500889e-03\n",
      "  9.33688040e-04  4.97796708e-03 -1.78083169e-02 -5.39032950e-03\n",
      " -3.63483954e-03  1.72855545e-02  1.05118246e-02 -3.40856869e-03\n",
      " -5.78573564e-03  2.28698019e-02  1.27849893e-02 -1.22091008e-02\n",
      "  2.15236770e-03  2.89856670e-02  4.32455943e-03 -1.61411925e-02\n",
      " -1.22609056e-04 -3.32498566e-03 -4.61824903e-03  1.46854868e-03\n",
      " -3.24770848e-06  1.70277996e-01 -3.37515981e-01  2.81986858e-01\n",
      " -8.22025521e-02 -3.71084091e-02 -1.23534712e-02  3.25671759e-02\n",
      " -7.43230068e-03  2.83937407e-03  4.16854385e-02 -6.14933390e-04\n",
      " -1.90186159e-03  1.04151886e-02  6.13167638e-03 -9.76865565e-04\n",
      " -2.38883913e-04 -2.45097543e-01  5.33520069e-01 -3.18294895e-01\n",
      "  5.90478202e-02], loss=0.06845919050831176\n",
      "training loss=0.06845919050831176\n",
      "testing loss=0.07747771519100678\n",
      "After ridge regression: 78.8 %\n",
      "\n"
     ]
    }
   ],
   "source": [
    "from ridge_regression import *\n",
    "#ridge regression\n",
    "\n",
    "degree = 4\n",
    "tx_training = build_poly(tx_training, degree)\n",
    "tx_training = np.c_[np.ones((y_training.shape[0], 1)), tx_training]\n",
    "tx_testing = build_poly(tx_testing, degree)\n",
    "tx_testing = np.c_[np.ones((y_testing.shape[0], 1)), tx_testing]\n",
    "\n",
    "#w_ridge, loss = ridge_regression(y_training, tx_training, 0.0012067926406393288)\n",
    "w_ridge, loss = ridge_regression(y_training, tx_training, 2.329951810515372e-10)\n",
    "print(\"weights={w}, loss={l}\".format(w=w_ridge, l=loss))\n",
    "print(\"training loss={l_tr}\".format(l_tr=compute_loss(y_training, tx_training, w_ridge)))\n",
    "print(\"testing loss={l_te}\".format(l_te=compute_loss(y_testing, tx_testing, w_ridge)))\n",
    "print(\"After ridge regression: \"+str(round(100*np.sum(predict_labels(w_ridge, tx_testing, False)==y_testing)/len(y_testing),5))+\" %\\n\")"
   ]
  },
  {
   "cell_type": "code",
   "execution_count": 10,
   "metadata": {},
   "outputs": [],
   "source": [
    "y_pred = predict_labels(w_ridge, tx_testing, False)\n",
    "print(len(y_pred))\n",
    "print(np.sum([y_pred==1]))\n",
    "print(np.sum([y_testing==1]))"
   ]
  },
  {
   "cell_type": "code",
   "execution_count": 12,
   "metadata": {},
   "outputs": [
    {
     "name": "stdout",
     "output_type": "stream",
     "text": [
      "(250000,)\n"
     ]
    }
   ],
   "source": [
    "#test on all data points from train.csv\n",
    "y_, tX_, ids_ = load_csv_data('../data/train.csv', sub_sample=False)"
   ]
  },
  {
   "cell_type": "code",
   "execution_count": 13,
   "metadata": {},
   "outputs": [],
   "source": [
    "tX_ = np.delete(tX_, (4,5,6,12,26,27,28), axis=1)\n",
    "tX_ = correction_missing_values_test(tX_, col_median_tX)\n",
    "tX_ = remove_outliers_test(tX_, perc_25, perc_75, col_median_tX)\n",
    "#tX_ = (tX_ - min_) / (max_ - min_)\n",
    "tX_ = (tX_ - mean) / std\n",
    "tX_ = build_poly(tX_, degree)\n",
    "tX_ = np.c_[np.ones((tX_.shape[0], 1)), tX_]"
   ]
  },
  {
   "cell_type": "code",
   "execution_count": 14,
   "metadata": {},
   "outputs": [
    {
     "name": "stdout",
     "output_type": "stream",
     "text": [
      "74017\n",
      "85667\n",
      "Ridge regression: 80.4312 %\n",
      "\n"
     ]
    }
   ],
   "source": [
    "y_pred = predict_labels(w_ridge, tX_, False)\n",
    "print(np.sum([y_pred==1]))\n",
    "print(np.sum([y_==1]))\n",
    "print(\"Ridge regression: \"+str(round(100*np.sum(y_pred==y_)/len(y_),5))+\" %\\n\")"
   ]
  },
  {
   "cell_type": "code",
   "execution_count": 280,
   "metadata": {},
   "outputs": [],
   "source": [
    "from gradient_descent import *\n",
    "\n",
    "ratio = 0.8\n",
    "seed = 6\n",
    "\n",
    "tX = np.c_[np.ones((y.shape[0], 1)), tX]\n",
    "\n",
    "tx_training, tx_testing, y_training, y_testing = split_data(tX, y, ratio, seed)\n",
    "\n",
    "# Define the parameters of the algorithm.\n",
    "max_iters = 5000\n",
    "gamma = 0.1\n",
    "\n",
    "# Initialization\n",
    "w_initial = np.random.rand(tX.shape[1])\n",
    "\n",
    "# Start gradient descent.\n",
    "gradient_ws, gradient_losses= gradient_descent(y_training, tx_training, w_initial, max_iters, gamma)\n",
    "print(\"weights={w}, training loss={l}\".format(w=gradient_ws, l=gradient_losses))\n",
    "print(\"testing loss={l_te}\".format(l_te=compute_loss(y_testing, tx_testing, gradient_ws)))\n",
    "print(\"After gradient descent: \"+str(round(100*np.sum(predict_labels(gradient_ws, tx_testing, False)==y_testing)/len(y_testing),5))+\" %\\n\")"
   ]
  },
  {
   "cell_type": "code",
   "execution_count": 12,
   "metadata": {},
   "outputs": [
    {
     "name": "stdout",
     "output_type": "stream",
     "text": [
      "Current iteration=0, training loss=26.950348424835816, testing loss=12.851884235183869\n",
      "Current iteration=500, training loss=0.06984341421487937, testing loss=0.0783533954319692\n",
      "Current iteration=1000, training loss=0.06974060763748247, testing loss=0.07835845842213904\n",
      "Current iteration=1500, training loss=0.06973059243824471, testing loss=0.07836371245544836\n",
      "Current iteration=2000, training loss=0.06972681840811316, testing loss=0.07835774279792841\n",
      "Current iteration=2500, training loss=0.06972423221687665, testing loss=0.07834955658539292\n",
      "Current iteration=3000, training loss=0.06972225203087797, testing loss=0.07834168913596307\n",
      "Current iteration=3500, training loss=0.0697207141645145, testing loss=0.07833470773719328\n",
      "Current iteration=4000, training loss=0.06971951777683436, testing loss=0.07832865028739691\n",
      "Current iteration=4500, training loss=0.06971858685429363, testing loss=0.0783234247470055\n",
      "Current iteration=5000, training loss=0.06971786247559236, testing loss=0.07831891865972682\n",
      "Current iteration=5500, training loss=0.06971729881321206, testing loss=0.07831502780913721\n",
      "Current iteration=6000, training loss=0.06971686020922295, testing loss=0.07831166209684343\n",
      "Current iteration=6500, training loss=0.06971651891721228, testing loss=0.07830874519573357\n",
      "Current iteration=7000, training loss=0.06971625334681161, testing loss=0.07830621274904202\n",
      "Current iteration=7500, training loss=0.06971604669785546, testing loss=0.07830401045786095\n",
      "Current iteration=8000, training loss=0.0697158858975894, testing loss=0.07830209239523243\n",
      "Current iteration=8500, training loss=0.06971576077367855, testing loss=0.07830041959653197\n",
      "Current iteration=9000, training loss=0.06971566341069874, testing loss=0.07829895889964306\n",
      "Current iteration=9500, training loss=0.06971558764940115, testing loss=0.07829768199399663\n",
      "Current iteration=10000, training loss=0.06971552869707431, testing loss=0.07829656463999911\n",
      "Current iteration=10500, training loss=0.06971548282435361, testing loss=0.0782955860264849\n",
      "Current iteration=11000, training loss=0.06971544712929943, testing loss=0.07829472823991426\n",
      "Current iteration=11500, training loss=0.06971541935381817, testing loss=0.07829397582421675\n",
      "Current iteration=12000, training loss=0.06971539774081387, testing loss=0.07829331541438443\n",
      "Current iteration=12500, training loss=0.0697153809230331, testing loss=0.07829273543027623\n",
      "Current iteration=13000, training loss=0.06971536783657155, testing loss=0.07829222581976131\n",
      "Current iteration=13500, training loss=0.06971535765357066, testing loss=0.07829177784244738\n",
      "Current iteration=14000, training loss=0.06971534972984685, testing loss=0.07829138388692337\n",
      "Current iteration=14500, training loss=0.06971534356413997, testing loss=0.07829103731578631\n",
      "Current iteration=15000, training loss=0.06971533876640314, testing loss=0.07829073233379262\n",
      "Current iteration=15500, training loss=0.06971533503312824, testing loss=0.07829046387533074\n",
      "Current iteration=16000, training loss=0.06971533212814575, testing loss=0.07829022750809872\n",
      "Current iteration=16500, training loss=0.06971532986768451, testing loss=0.07829001935042441\n",
      "Current iteration=17000, training loss=0.0697153281087462, testing loss=0.07828983600011256\n",
      "Current iteration=17500, training loss=0.06971532674005915, testing loss=0.07828967447306448\n",
      "Current iteration=18000, training loss=0.0697153256750393, testing loss=0.07828953215021173\n",
      "Current iteration=18500, training loss=0.06971532484631275, testing loss=0.07828940673154378\n",
      "Current iteration=19000, training loss=0.06971532420145368, testing loss=0.07828929619620774\n",
      "Current iteration=19500, training loss=0.06971532369966792, testing loss=0.07828919876781974\n",
      "weights=[ 3.50000000e-01  2.09399017e-01 -5.40752064e-03 -1.11999844e-01\n",
      " -1.83391312e-01 -3.12002503e-02  9.71016059e-02  4.52296623e-02\n",
      " -7.30915704e-02 -1.43360709e-02 -5.95385286e-02 -5.77717157e-03\n",
      "  3.22571398e-02 -2.41990171e-02 -2.26470071e-02 -8.21228901e-04\n",
      " -1.85256426e-02  7.82157701e-02 -5.86843704e-02  5.51068572e-03\n",
      "  6.33609139e-03 -1.50063329e-02 -2.29518733e-02  4.61601104e-02\n",
      " -3.30973822e-02  5.86465279e-02  1.65170964e-02 -1.40617601e-02\n",
      "  5.87041346e-02 -9.40956520e-03 -2.72101125e-02 -4.71910319e-03\n",
      " -1.83824506e-02 -1.17092055e-03  7.56176090e-03 -7.57741631e-03\n",
      " -5.06491274e-03 -2.59784581e-02  7.54274298e-03  4.70960295e-03\n",
      "  2.79051415e-03 -3.10695641e-02 -9.51379367e-03  1.80002637e-02\n",
      " -5.74860017e-03 -4.98682021e-03  3.77381841e-03  1.91436889e-02\n",
      " -1.12755678e-02  3.42647513e-02  1.31993895e-03 -3.51455621e-02\n",
      "  3.49802847e-04 -1.37699764e-02  6.52352696e-03  7.59508186e-02\n",
      "  2.70913578e-02 -1.02754351e-01  2.57784799e-02 -3.17081781e-02\n",
      "  2.56587873e-02 -1.41527498e-03  5.00530721e-02  2.36537942e-03\n",
      "  1.49245672e-02  4.79180403e-03 -7.14482343e-03 -1.69700751e-02\n",
      "  5.06547374e-02 -3.58589901e-02], training loss=0.06971532330989935\n",
      "training loss=0.06971532330921211\n",
      "testing loss=0.07828911304544788\n",
      "After gradient descent: 78.8 %\n",
      "\n"
     ]
    }
   ],
   "source": [
    "from gradient_descent import *\n",
    "\n",
    "degree = 3\n",
    "tx_training = build_poly(tx_training, degree)\n",
    "tx_training, mean_, std_ = standardize(tx_training)\n",
    "tx_training = np.c_[np.ones((y_training.shape[0], 1)), tx_training]\n",
    "tx_testing = build_poly(tx_testing, degree)\n",
    "tx_testing = (tx_testing - mean_) / std_\n",
    "tx_testing = np.c_[np.ones((y_testing.shape[0], 1)), tx_testing]\n",
    "\n",
    "# Define the parameters of the algorithm.\n",
    "max_iters = 20000\n",
    "gamma = 0.25\n",
    "\n",
    "# Initialization\n",
    "w_initial = np.random.rand(tx_training.shape[1])\n",
    "\n",
    "# Start gradient descent.\n",
    "gradient_ws, gradient_losses= gradient_descent(y_training, tx_training, y_testing, tx_testing, w_initial, max_iters, gamma)\n",
    "print(\"weights={w}, training loss={l}\".format(w=gradient_ws, l=gradient_losses))\n",
    "print(\"training loss={l_tr}\".format(l_tr=compute_loss(y_training, tx_training, gradient_ws)))\n",
    "print(\"testing loss={l_te}\".format(l_te=compute_loss(y_testing, tx_testing, gradient_ws)))\n",
    "print(\"After gradient descent: \"+str(round(100*np.sum(predict_labels(gradient_ws, tx_testing, False)==y_testing)/len(y_testing),5))+\" %\\n\")"
   ]
  },
  {
   "cell_type": "code",
   "execution_count": null,
   "metadata": {},
   "outputs": [],
   "source": [
    "y_pred = predict_labels(gradient_ws, tx_testing, False)\n",
    "print(len(y_pred))\n",
    "print(np.sum([y_pred==1]))\n",
    "print(np.sum([y_testing==1]))"
   ]
  },
  {
   "cell_type": "code",
   "execution_count": 471,
   "metadata": {},
   "outputs": [],
   "source": [
    "#test on all data points from train.csv\n",
    "y_, tX_, ids_ = load_csv_data('../data/train.csv', sub_sample=False)"
   ]
  },
  {
   "cell_type": "code",
   "execution_count": 472,
   "metadata": {},
   "outputs": [],
   "source": [
    "tX_ = np.delete(tX_, (4,5,6,12,26,27,28), axis=1)\n",
    "tX_ = correction_missing_values_test(tX_, col_median_tX)\n",
    "tX_ = remove_outliers_test(tX_, perc_25, perc_75, col_median_tX)\n",
    "tX_ = (tX_ - min_) / (max_ - min_)\n",
    "tX_ = (tX_ - mean) / std\n",
    "tX_ = build_poly(tX_, degree)\n",
    "tX_ = (tX_ - mean_) / std_\n",
    "tX_ = np.c_[np.ones((tX_.shape[0], 1)), tX_]"
   ]
  },
  {
   "cell_type": "code",
   "execution_count": 473,
   "metadata": {},
   "outputs": [
    {
     "name": "stdout",
     "output_type": "stream",
     "text": [
      "75821\n",
      "85667\n",
      "Gradient descent: 80.3456 %\n",
      "\n"
     ]
    }
   ],
   "source": [
    "y_pred = predict_labels(gradient_ws, tX_, False)\n",
    "print(np.sum([y_pred==1]))\n",
    "print(np.sum([y_==1]))\n",
    "print(\"Gradient descent: \"+str(round(100*np.sum(y_pred==y_)/len(y_),5))+\" %\\n\")"
   ]
  },
  {
   "cell_type": "code",
   "execution_count": 30,
   "metadata": {},
   "outputs": [
    {
     "name": "stdout",
     "output_type": "stream",
     "text": [
      "Current iteration=0, loss=10.684155249537138\n",
      "Current iteration=100, loss=0.11611652153666797\n",
      "Current iteration=200, loss=0.14554730629189477\n",
      "Current iteration=300, loss=0.15729584012939785\n",
      "Current iteration=400, loss=0.14270265710658306\n",
      "Current iteration=500, loss=0.14298708683238764\n",
      "Current iteration=600, loss=0.10556115934044442\n",
      "Current iteration=700, loss=0.10730606578847834\n",
      "Current iteration=800, loss=0.14551074619988377\n",
      "Current iteration=900, loss=0.21453318010213285\n",
      "Current iteration=1000, loss=0.11551455058310207\n",
      "Current iteration=1100, loss=0.16175518591596363\n",
      "Current iteration=1200, loss=0.1205090926539504\n",
      "Current iteration=1300, loss=0.12327826509625146\n",
      "Current iteration=1400, loss=0.10193669583300485\n",
      "Current iteration=1500, loss=0.0981311189563209\n",
      "Current iteration=1600, loss=0.10670949634004609\n",
      "Current iteration=1700, loss=0.10871143412603702\n",
      "Current iteration=1800, loss=0.09593688576563207\n",
      "Current iteration=1900, loss=0.09624031797805332\n",
      "Current iteration=2000, loss=0.14465157112595062\n",
      "Current iteration=2100, loss=0.11531081540132122\n",
      "Current iteration=2200, loss=0.12581218995274956\n",
      "Current iteration=2300, loss=0.09500207807191174\n",
      "Current iteration=2400, loss=0.12523628169823547\n",
      "Current iteration=2500, loss=0.12174955822264694\n",
      "Current iteration=2600, loss=0.10160210166529182\n",
      "Current iteration=2700, loss=0.15615198040815262\n",
      "Current iteration=2800, loss=0.18584399019535516\n",
      "Current iteration=2900, loss=0.0972637838642432\n",
      "Current iteration=3000, loss=0.10865722189086531\n",
      "Current iteration=3100, loss=0.11356751220163719\n",
      "Current iteration=3200, loss=0.09288599100999133\n",
      "Current iteration=3300, loss=0.13428916213334555\n",
      "Current iteration=3400, loss=0.19894353148093608\n",
      "Current iteration=3500, loss=0.11667871788847228\n",
      "Current iteration=3600, loss=0.09954323456578638\n",
      "Current iteration=3700, loss=0.13818435891922054\n",
      "Current iteration=3800, loss=0.21580122317832234\n",
      "Current iteration=3900, loss=0.0959180464846572\n",
      "Current iteration=4000, loss=0.08985200046465622\n",
      "Current iteration=4100, loss=0.08982641574038834\n",
      "Current iteration=4200, loss=0.11899354662930639\n",
      "Current iteration=4300, loss=0.09148029602972145\n",
      "Current iteration=4400, loss=0.0958351315616195\n",
      "Current iteration=4500, loss=0.09805403685822828\n",
      "Current iteration=4600, loss=0.08936670407373677\n",
      "Current iteration=4700, loss=0.10812971209843943\n",
      "Current iteration=4800, loss=0.25566428874790276\n",
      "Current iteration=4900, loss=0.09245414306084061\n",
      "weights=[-7.56840847e-01  2.13088766e-01 -1.41284105e+00 -1.61766921e-01\n",
      "  5.21453761e-01  7.59636439e-01  1.41150350e-01 -5.92373135e-01\n",
      "  3.14893809e-01 -7.70022195e-03 -2.74330821e-01 -7.22916502e-01\n",
      "  1.55342814e+00  7.01136737e-01  1.03249140e+00  4.39626916e-01\n",
      "  1.62270978e-01 -7.86730428e-04 -8.92054353e-02  5.89802809e-01\n",
      "  1.81253515e-01 -1.19404676e-01  1.84092815e-01  2.27113752e-01\n",
      "  1.45230550e-01 -1.34219555e-01  8.51293647e-02 -1.88963510e-01\n",
      " -3.93527489e-02 -1.33615058e-01  2.38569442e-01], loss=0.08914888593335403\n",
      "training loss=0.08930297820116996\n",
      "testing loss=0.08823516920672592\n",
      "After stochastic gradient descent: 72.7 %\n",
      "\n"
     ]
    }
   ],
   "source": [
    "from stochastic_gradient_descent import *\n",
    "\n",
    "ratio = 0.8\n",
    "seed = 6\n",
    "\n",
    "tX = np.c_[np.ones((y.shape[0], 1)), tX]\n",
    "\n",
    "tx_training, tx_testing, y_training, y_testing = split_data(tX, y, ratio, seed)\n",
    "\n",
    "# Define the parameters of the algorithm.\n",
    "max_iters = 5000\n",
    "gamma = 0.1\n",
    "\n",
    "# Initialization\n",
    "w_initial = np.random.rand(tX.shape[1])\n",
    "\n",
    "# Start SGD.\n",
    "sgd_ws, sgd_losses = stochastic_gradient_descent(y_training, tx_training, w_initial, max_iters, gamma)\n",
    "print(\"weights={w}, training loss={l}\".format(w=sgd_ws, l=sgd_losses))\n",
    "print(\"training loss={l_tr}\".format(l_tr=compute_loss(y_training, tx_training, sgd_ws)))\n",
    "print(\"testing loss={l_te}\".format(l_te=compute_loss(y_testing, tx_testing, sgd_ws)))\n",
    "print(\"After stochastic gradient descent: \"+str(round(100*np.sum(predict_labels(sgd_ws, tx_testing, False)==y_testing)/len(y_testing),5))+\" %\\n\")"
   ]
  },
  {
   "cell_type": "markdown",
   "metadata": {},
   "source": [
    "## Generate predictions and save ouput in csv format for submission:"
   ]
  },
  {
   "cell_type": "code",
   "execution_count": 15,
   "metadata": {
    "collapsed": false,
    "jupyter": {
     "outputs_hidden": false
    }
   },
   "outputs": [],
   "source": [
    "DATA_TEST_PATH = '../data/test.csv' # TODO: download train data and supply path here \n",
    "_, tX_test, ids_test = load_csv_data(DATA_TEST_PATH)\n",
    "tX_test = np.delete(tX_test, (4,5,6,12,26,27,28), axis=1)\n",
    "tX_test = correction_missing_values_test(tX_test, col_median_tX)\n",
    "tX_test = remove_outliers_test(tX_test, perc_25, perc_75, col_median_tX)\n",
    "tX_test = (tX_test - min_) / (max_ - min_)\n",
    "tX_test = (tX_test - mean) / std\n",
    "tX_test = build_poly(tX_test, degree)\n",
    "tX_test = np.c_[np.ones((tX_test.shape[0], 1)), tX_test]"
   ]
  },
  {
   "cell_type": "code",
   "execution_count": 16,
   "metadata": {
    "collapsed": false,
    "jupyter": {
     "outputs_hidden": false
    }
   },
   "outputs": [],
   "source": [
    "#OUTPUT_PATH = 'test_ridge_deg4_without_norm.csv' # TODO: fill in desired name of output file for submission\n",
    "y_pred = predict_labels(w_ridge, tX_test, False)\n",
    "y_pred[np.where(y_pred == 0)] = -1\n",
    "#create_csv_submission(ids_test, y_pred, OUTPUT_PATH)"
   ]
  },
  {
   "cell_type": "code",
   "execution_count": 17,
   "metadata": {},
   "outputs": [
    {
     "name": "stdout",
     "output_type": "stream",
     "text": [
      "168290\n",
      "399948\n"
     ]
    }
   ],
   "source": [
    "print(np.sum([y_pred==1]))\n",
    "print(np.sum([y_pred==-1]))"
   ]
  },
  {
   "cell_type": "code",
   "execution_count": null,
   "metadata": {},
   "outputs": [],
   "source": []
  }
 ],
 "metadata": {
  "anaconda-cloud": {},
  "kernelspec": {
   "display_name": "Python 3",
   "language": "python",
   "name": "python3"
  },
  "language_info": {
   "codemirror_mode": {
    "name": "ipython",
    "version": 3
   },
   "file_extension": ".py",
   "mimetype": "text/x-python",
   "name": "python",
   "nbconvert_exporter": "python",
   "pygments_lexer": "ipython3",
   "version": "3.6.9"
  }
 },
 "nbformat": 4,
 "nbformat_minor": 4
}
