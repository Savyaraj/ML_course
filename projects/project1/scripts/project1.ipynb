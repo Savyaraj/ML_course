{
 "cells": [
  {
   "cell_type": "code",
   "execution_count": 1,
   "metadata": {
    "collapsed": true,
    "tags": []
   },
   "outputs": [],
   "source": [
    "# Useful starting lines\n",
    "%matplotlib inline\n",
    "import numpy as np\n",
    "import matplotlib.pyplot as plt\n",
    "%load_ext autoreload\n",
    "%autoreload 2"
   ]
  },
  {
   "cell_type": "markdown",
   "metadata": {},
   "source": [
    "## Load the training data into feature matrix, class labels, and event ids:"
   ]
  },
  {
   "cell_type": "code",
   "execution_count": 2,
   "metadata": {
    "collapsed": false
   },
   "outputs": [],
   "source": [
    "from proj1_helpers import *\n",
    "DATA_TRAIN_PATH = '../data/train.csv' # TODO: download train data and supply path here \n",
    "y, tX, ids = load_csv_data(DATA_TRAIN_PATH, sub_sample=True)"
   ]
  },
  {
   "cell_type": "markdown",
   "metadata": {},
   "source": [
    "## Do your thing crazy machine learning thing here :) ..."
   ]
  },
  {
   "cell_type": "code",
   "execution_count": 32,
   "metadata": {
    "tags": []
   },
   "outputs": [
    {
     "output_type": "stream",
     "name": "stdout",
     "text": "Accuracy from scikit learn: 74.54 %\n\nAccuracy from our code:\n\nLogistic regression: 67.78 %\n\nAfter regularization: 65.86 %\n\n"
    }
   ],
   "source": [
    "from sklearn.linear_model import LogisticRegression\n",
    "from sklearn.decomposition import PCA\n",
    "from sklearn.preprocessing import normalize\n",
    "from logistic_regression import *\n",
    "from reg_logistic_regression import *\n",
    "\n",
    "# tX_norm = normalize(tX)\n",
    "# pca = PCA(n_components=30)\n",
    "# pca.fit(tX_norm)\n",
    "# print(np.sum(pca.explained_variance_ratio_))\n",
    "# tX_proj = pca.transform(tX)\n",
    "\n",
    "clf = LogisticRegression(random_state=0).fit(tX, y)\n",
    "print(\"Accuracy from scikit learn: \"+str(round(100*clf.score(tX, y),5))+' %\\n')\n",
    "\n",
    "#Using our code\n",
    "\n",
    "gamma = 0.1\n",
    "lamda_ = 10\n",
    "n_iter = 1000\n",
    "\n",
    "w = np.random.rand(tX.shape[1])\n",
    "for i in range(n_iter):\n",
    "    loss, w = learning_by_gradient_descent(y, tX, w, gamma)\n",
    "\n",
    "print(\"Accuracy from our code:\\n\")\n",
    "print(\"Logistic regression: \"+str(round(100*(1-np.linalg.norm(predict_labels(w, tX)-y,1)/2/len(y)),5))+\" %\\n\")\n",
    "\n",
    "w_reg = w\n",
    "for i in range(n_iter):\n",
    "    loss, w_reg = learning_by_penalized_gradient(y, tX, w_reg, gamma, lamda_)\n",
    "\n",
    "print(\"After regularization: \"+str(round(100*(1-np.linalg.norm(predict_labels(w_reg, tX)-y,1)/2/len(y)),5))+\" %\\n\")\n"
   ]
  },
  {
   "cell_type": "markdown",
   "metadata": {},
   "source": [
    "## Generate predictions and save ouput in csv format for submission:"
   ]
  },
  {
   "cell_type": "code",
   "execution_count": 10,
   "metadata": {
    "collapsed": false
   },
   "outputs": [],
   "source": [
    "DATA_TEST_PATH = '' # TODO: download train data and supply path here \n",
    "_, tX_test, ids_test = load_csv_data(DATA_TEST_PATH)"
   ]
  },
  {
   "cell_type": "code",
   "execution_count": 31,
   "metadata": {
    "collapsed": false
   },
   "outputs": [],
   "source": [
    "OUTPUT_PATH = '' # TODO: fill in desired name of output file for submission\n",
    "y_pred = predict_labels(weights, tX_test)\n",
    "create_csv_submission(ids_test, y_pred, OUTPUT_PATH)"
   ]
  },
  {
   "cell_type": "code",
   "execution_count": null,
   "metadata": {
    "collapsed": true
   },
   "outputs": [],
   "source": []
  }
 ],
 "metadata": {
  "anaconda-cloud": {},
  "kernelspec": {
   "display_name": "Python 3.6.9 64-bit",
   "language": "python",
   "name": "python36964bit04fa935423eb4fb6b8cd32a09c283741"
  },
  "language_info": {
   "codemirror_mode": {
    "name": "ipython",
    "version": 3
   },
   "file_extension": ".py",
   "mimetype": "text/x-python",
   "name": "python",
   "nbconvert_exporter": "python",
   "pygments_lexer": "ipython3",
   "version": "3.6.9-final"
  }
 },
 "nbformat": 4,
 "nbformat_minor": 0
}